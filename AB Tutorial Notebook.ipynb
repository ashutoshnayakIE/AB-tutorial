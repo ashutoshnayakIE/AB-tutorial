{
 "cells": [
  {
   "cell_type": "markdown",
   "metadata": {},
   "source": [
    "<h1><center>Tutorial on A/B Testing</center></h1>"
   ]
  },
  {
   "cell_type": "markdown",
   "metadata": {},
   "source": [
    "<h2>Jupyter Notebook</h2>\n",
    "\n",
    "Jupyter notebooks can be very handy as it helps in combining code with the text. We can create presentations, or technical documents using notebook. Default jupyter notebook can be difficult to work with, particularly when large document with a lot of sections and subsections. Or even codes become difficult to read if the code includes lots of functions, loops etc.\n",
    "\n",
    "If you use jupyter notebook, please install the extension: nbextension. <a href=\"https://jupyter-contrib-nbextensions.readthedocs.io/en/latest/install.html\">check here for installations</a>\n",
    "\n",
    "After you install the extension, a new option will come up as shown Figure 1 (a). Click on it to and select the extension you want in your notebook as I have selected some in Figure 1(b). Once clicked, you can use those extensions.\n",
    "\n",
    "\n",
    "<img src=\"notebook.png\" width=\"1000\">"
   ]
  },
  {
   "cell_type": "code",
   "execution_count": 126,
   "metadata": {},
   "outputs": [],
   "source": [
    "# loading all the requisite libraries that will be required for the toy model\n",
    "import scipy.stats as st\n",
    "from scipy.stats import beta,norm,binom\n",
    "import matplotlib.pyplot as mplt\n",
    "import pandas as pd\n",
    "from ipywidgets import interact, interactive, fixed, interact_manual\n",
    "import ipywidgets as widgets\n",
    "import numpy as np\n",
    "import math\n"
   ]
  },
  {
   "cell_type": "markdown",
   "metadata": {},
   "source": [
    "<h2>Whats in this tutorial</h2>\n",
    "\n",
    "In this tutorial we will go through the basic of A/B testing. We assume that you have an understanding of the why A/B testing is done. This tutorial guides through an example to the steps involved in A-B testing. Topics included are: <br>\n",
    " <br>\n",
    "<b>\n",
    "1. Recap of Probability Distributions <br>\n",
    "2. Defining Metrics and Understanding their Properties <br>\n",
    "3. Running A/B tests <br>\n",
    "</b>\n",
    "\n",
    "A/B testing is a general methodology used online when we want to test new products or features. A/B test allows us to determine <b>scientifically how to optimize products or features</b> (a website or an app or any system) by trying out possible changes and see what performs better with your users. It allows to make <b>data-driven decisions</b> rather than relying on intution about user preferences. To keep the discussion concise, hereafter, we will explain A/B testing as a method employed to determine if a new feature F2 should replace existing feature F1. This feature could be a small change (e.g. changing the font or color of a button on your website) or a complicated change (using deep learning for product recommendation in amazon). This feature could not even be user visible (changing the ranking system of friend suggestion in facebook).  \n",
    "\n",
    "Broadly speaking, A/B testing uses two sets of users. First set, the <b>control group</b>, is shown Feature F1 and the second set, <b>treatment group/ experiment group</b> is shown the new feature F2. A/B testing uses rigorous post experiment analysis to  to determine which feature performs better with users. A/B testing is generally used when we compare two options. If more than 2 options (of features) are tested, it is called multi-variate A/B testing (or split test). A brief explanation of A/B testing is shown in Figure 1 where a company wants to increase its user engagement.\n",
    "\n",
    "<img src=\"AB.jpg\" width=\"800\">\n",
    "<center>Figure 1. An example of A/B testing and split test</center>"
   ]
  },
  {
   "cell_type": "markdown",
   "metadata": {},
   "source": [
    "<h2>Recap of Probability Distributions</h2>\n",
    "\n",
    "A probability distribution is a function that describes the likelihood of obtaining the possible values that a random variable can assume. In other words, it is the histogram with very small bins of random variable (s). Figure below shows how the histogram changes as we increase the number of samples. For simplicity, lets consider that these random draws have been obtained from normal distribution and binomial distribution. Therefore, as more and more samples are being drawn, the histogram of random variables look like the distribution from which it was drawn from."
   ]
  },
  {
   "cell_type": "markdown",
   "metadata": {},
   "source": [
    "<h3>Normal distribution</h3>"
   ]
  },
  {
   "cell_type": "code",
   "execution_count": 13,
   "metadata": {},
   "outputs": [
    {
     "data": {
      "application/vnd.jupyter.widget-view+json": {
       "model_id": "63819eb1b48b4289abfa2c630c51ad40",
       "version_major": 2,
       "version_minor": 0
      },
      "text/plain": [
       "interactive(children=(IntSlider(value=100, description='samples', max=100000, min=100, step=5000), IntSlider(v…"
      ]
     },
     "metadata": {},
     "output_type": "display_data"
    }
   ],
   "source": [
    "@interact( samples = (100,100000,5000), bins=(10,100,10))  #start point, end point, jump size\n",
    "def normal_draw( samples=100, bins=10):\n",
    "    ground_truth = np.random.normal(0,1,samples)\n",
    "    mplt.hist(ground_truth,bins=bins);"
   ]
  },
  {
   "cell_type": "markdown",
   "metadata": {},
   "source": [
    "<h3>binomial distribution</h3>"
   ]
  },
  {
   "cell_type": "code",
   "execution_count": 14,
   "metadata": {},
   "outputs": [
    {
     "data": {
      "application/vnd.jupyter.widget-view+json": {
       "model_id": "a6434224c87945d78142cc8e365da838",
       "version_major": 2,
       "version_minor": 0
      },
      "text/plain": [
       "interactive(children=(IntSlider(value=100, description='samples', max=100000, min=100, step=5000), IntSlider(v…"
      ]
     },
     "metadata": {},
     "output_type": "display_data"
    }
   ],
   "source": [
    "@interact( samples = (100,100000,5000), bins=(10,100,10)) \n",
    "def binomial_draw( samples=100, bins=10):\n",
    "    ground_truth = np.random.binomial(100,0.3,samples)\n",
    "    mplt.hist(ground_truth,bins=bins);"
   ]
  },
  {
   "cell_type": "markdown",
   "metadata": {},
   "source": [
    "Binomial distribution can be approximated as normal distribution (when the sample size is large enough) with mean $np$ and standard deviation $np(1-p)$. As it can be seen in the figure above, as sample size increase, the distribution looks very similar to the normal distribution."
   ]
  },
  {
   "cell_type": "markdown",
   "metadata": {},
   "source": [
    "<h3>Difference between two distribution</h3>"
   ]
  },
  {
   "cell_type": "markdown",
   "metadata": {},
   "source": [
    "Suppose we want to find out if we can differentiate between two distributions. If we have two distribution, we can check if we can observe the difference between them or not. We can use t test to check the difference. Let distribution 1 be the known distribution, and distribution 2 be the samples collected. We want to check if the difference of $mu$ can be observed or not."
   ]
  },
  {
   "cell_type": "code",
   "execution_count": 57,
   "metadata": {},
   "outputs": [
    {
     "data": {
      "application/vnd.jupyter.widget-view+json": {
       "model_id": "c2cfc2351de74abeaea64099cc0bebc2",
       "version_major": 2,
       "version_minor": 0
      },
      "text/plain": [
       "interactive(children=(FloatSlider(value=0.1, description='mu', max=1.0, min=0.1, step=0.05), FloatSlider(value…"
      ]
     },
     "metadata": {},
     "output_type": "display_data"
    }
   ],
   "source": [
    "@interact(mu=(0.1,1,0.05),std=(0.5,10,0.5),samples=(100,1000,50))  #start point, end point, jump size\n",
    "def normal_draw(mu=-2,std=1,samples=100):\n",
    "    \n",
    "    # this is the known distribution, we dont change this\n",
    "    # distribution with mean = 0 and std = 1\n",
    "    x  = np.linspace(norm.ppf(0.01,0,1),norm.ppf(0.99,0,1), 100)\n",
    "    rv = norm(0, 1)\n",
    "    mplt.plot(x, rv.pdf(x), 'k-', lw=2,c='orange',label='prob distribution')\n",
    "    mplt.axvline(x=0,c='orange')                            \n",
    "    \n",
    "    x  = np.linspace(norm.ppf(0.01,mu,std),norm.ppf(0.99,mu,std), 100)\n",
    "    rv = norm(mu,std)\n",
    "    mplt.plot(x, rv.pdf(x), 'k-', lw=2,c='blue',label='samples')\n",
    "    mplt.axvline(x=mu,c='blue') \n",
    "    mplt.legend();\n",
    "    \n",
    "    print('performing t test')\n",
    "    distribution1 = np.random.normal(0,1,1000)\n",
    "    distribution2 = np.random.normal(mu,std,samples)\n",
    "    print(st.ttest_ind(distribution1,distribution2))"
   ]
  },
  {
   "cell_type": "markdown",
   "metadata": {},
   "source": [
    "<u>Observe the following</u>: <br>\n",
    "1) as the difference (mu) increases, t statistic increases: we <b>can</b> differentiate between the two distributions better<br>\n",
    "2) as the spread (std) increases, t statistic decreases: we <b>cannot</b> differentiate between the two distributions better<br>\n",
    "3) as the samples (n) increases, t statistic increases: we <b>can</b> differentiate between the two distributions better<br>\n",
    "\n",
    "\n",
    "We will use these factors in determining how to do reliable A-B testing."
   ]
  },
  {
   "cell_type": "markdown",
   "metadata": {},
   "source": [
    "<h2>Defining Metrics and Understanding their Properties</h2>\n",
    "\n",
    "It is very critical to understand how we select our metrics for the test as it will define the success of the A/B tests."
   ]
  },
  {
   "cell_type": "markdown",
   "metadata": {},
   "source": [
    "<h3>Metrics should make business sense</h3>"
   ]
  },
  {
   "cell_type": "markdown",
   "metadata": {},
   "source": [
    "The most important property of the metrics is that it should satisfy business needs and add some values to the company. It could be economic value e.g. increase in user clicks or it could also be done for understanding user behavior. The managers should know what are they going to use the metrics for. The metrics should be well defined, that is, there should be no confusion on what formula is to be used for calculating the metric (click through rate is different from number of clicks/views). The developers should be able to measure the metrics in short time. For example, sign up does not tell if the the user is going to refer or not. As mentioned before, the metrics should not take long time to measure (e.g. effect of a soap on skin cancer). The company should have complete information about the metric. We should be able to measure the metric (is it mean, median) and understand possible error in collecting the metrics (e.g. if click through rate increase by 30%, there might be a bug in the code in collecting the data).\n",
    "\n",
    "Using the current system, check the values and distribution (or collect all statistics) for the metrics. These statistics are called baseline values. Ensure that these baseline values makes sense and there is no bug in collecting this data."
   ]
  },
  {
   "cell_type": "markdown",
   "metadata": {},
   "source": [
    "<h3>Filtering</h3>\n",
    "\n",
    "We should be able to identify issues while collecting these metrics. For example, we <b>should check how the data is collected </b> (e.g. check that there is no spam) that is affecting our data collection and we should be able to filter these. Users in control and treatment group should not know if they have been placed in one of the groups (it affects the randomization of the experiment and users might self-select to either join or leave the experiment). Also, users should not know that an experiment is being carried out. This might affect the metrics as users in control group would want to test the new feature if they know about it and this might pollute the current experiment.\n"
   ]
  },
  {
   "cell_type": "markdown",
   "metadata": {},
   "source": [
    "<h3>Invariance check</h3>\n",
    "\n",
    "Before running the experiment and analyzing the results, A/B testing should go through sanity checks for randomization. <b>The distribution of user characteristics in control and treatment groups should be the same</b>. This can also be done by A/A testing. That is instead of sending the new feature F2 to the treatment group, just send feature F1. As the user groups are randomly created, there should be no difference in user engagement between both the groups."
   ]
  },
  {
   "cell_type": "markdown",
   "metadata": {},
   "source": [
    "<h3>Sensitivity and Robustness</h3>\n",
    "\n",
    "The metrics should be <b>sensitive enough to move if there is an actual difference in the response in control and the treatment group</b>. but it should not be very sensitive that a slight change would result in a very different measures. Thus, the <b>metric should be robust to changes</b>. For example, if our metric is mean of total donations, mean is sensitive to outliers. If our metric is median, it is robust to outliers but it might be very </b>insensitive</b>. For example, if just 1% of users buy a product, and we use median, the median might not move and it will 0 in both the groups.\n",
    "\n",
    "Before selecting the metrics, a histogram of the metric for the existing users should be used to identify the nature of metrics. Different metrics include mean, median, percentiles, ratios, or percent change. Percent change is insensitive to changes in absolute values (which is desirable in many situations). <b>A/A test might also be able to test too sensitive metrics as the metrics will be different only because the users are different</b>"
   ]
  },
  {
   "cell_type": "markdown",
   "metadata": {},
   "source": [
    "<h3>Variability</h3>\n",
    "\n",
    "Variability or variance is critical for analyzing the results of A/B testing as we use confidence intervals and hypothesis testing for detecting the change. Metrics may follow different distributions. <b>For calculating the confidence interval and analyzing the results, we should know about the distribution of the metrics</b> and how to calculate the variability. Estimating variance may not always be easy (e.g. median of a non-normal distribution or a complex distribution) when analytical result for variance calculation is not possible.\n",
    "\n",
    "If the variance cannot be calculated variance analytically, we can <b>calculate it empirically</b>. Variability calculation makes an underlying assumption that we know the inherent distribution of the metric. When it is complex, we can run a lot of small A/A tests to identify the underlying distribution of the metrics. Or we can do one big A/A test and use techniques like bootstrapping (sampling with replacement) to get the underlying distribution of the metrics."
   ]
  },
  {
   "cell_type": "markdown",
   "metadata": {},
   "source": [
    "<h3>Randomization</h3>\n",
    "\n",
    "Randomization is also very important in conducting A/B tests. \n",
    "<ul>\n",
    "    <li>Users should not know if they are in experiment (may not be possible always) and particularly they should never know if they are in treatment group or control group</li>\n",
    "    <li>Assignment of users should not change during the experiment. For example, if a user is in control group at the start of the experiment, they should not see/get the features of treatment group (or be re assigned to treatment group) </li>\n",
    "    <li>Users should not know about the experiment (treatments). For example, if one user (treatment group) discusses new feature on their app, and other users (in control group) dont see that feature, their behavior might change. Although its not possible to be able to do this for all apps/companies, the experiments can be achieved by doing it in 2 cities (controlling for inter-city differences)</li>\n",
    "    <li>Random experiments should not be known to the users beforehand. For example, if an app is testing a new language feature that they will introduce a local language and they want to check if it increases uninstalls, it will not be a clean experiment if they announce/advertise that they are launching a new language feature -- the users may expect langauge in their app and if they dont see it, they might uninstall.</li>\n",
    "    <li>Assignment of users to different groups should be completely random. For example, if users are assigned based on operating system (android vs iOS), it will lead to wrong inference as iphone users (more expensive than android phones) might purchase more. Or it will give wrong results if some of the feature doesnt work in iOS but works in android (or different browsers)</li>\n",
    "</ul>\n",
    "        "
   ]
  },
  {
   "cell_type": "markdown",
   "metadata": {},
   "source": [
    "<h3>Duration of the Experiment</h3>\n",
    "    \n",
    "    \n",
    "The duration of A/B testing also determines if A/B testing should be done. Too short a duration gives unreliable results while running it too long could be expensive. Also, if we run A/B testing for long, users might \"learn\" the changes in feature. This will make the test unreliable. "
   ]
  },
  {
   "cell_type": "markdown",
   "metadata": {},
   "source": [
    "<h2>Designing the Experiment </h2>\n",
    "\n",
    "Now that we understand what metric we will be using for our A/B testing, we need to design the experiment. Studies should be designed in collaboration with the designers. Designing the experiment includes the following:\n",
    "\n",
    "1. Selecting the subject\n",
    "2. Selecting the population for control and treatment group\n",
    "3. Sample size needed to run the experiment and duration of the experiment"
   ]
  },
  {
   "cell_type": "markdown",
   "metadata": {},
   "source": [
    "<h3>Selecting the subject</h3>\n",
    "\n",
    "It is important to define how we <b>define our subjects</b>. If we do not consider subjects and randomize, same user may see F1 and F2 on two different occasions. Thus, it is important to <b>ensure that a user sees only one of the options</b>. For example, in a mobile app, email id of the user can be selected as the unique identifier for a user. But how do we collect data for users who have not signedup for the app? If we just consider the users who have signedup, we will be biasing our data for \"better customers\". If we use web cookies to identify a user, what happens if the user uses multiple devices and we get a different id for the same user? \n",
    "\n",
    "Assigning only <b>one feature to one user during the experiment is called consistency</b> (a user should always see the same feature they were assigned, every time they use the website/app). The variable that provides a unique id to the a subject is called <b>unit of diversion</b>. When we measure metric, the denominator is called <b>unit of analysis</b>. For example, if we consider a webpage, and our metric is the number of clicks/user, user is the unit of analysis (also, the diversion is user as we count the total number of clicks for unique user). Variability of the metric can also be affected by the diversion we select. If the unit of analysis is the same as the unit of diversion, <b>metric variability</b> is lower when they aren't same."
   ]
  },
  {
   "cell_type": "markdown",
   "metadata": {},
   "source": [
    "<h3>Selecting the population</h3>\n",
    "\n",
    "The most important criteria for A/B testing is <b>randomization</b>. The population in the control group and the treatment group should have similar properties (the more similar the better). For example, if the average age of users in control group is higher than that of the treatment group (and we younger people use their phones more), the results will be biased and it will overestimate the effect of F2. \n",
    "\n",
    "There are some techniques called <b>intra-users</b>. In these techniques, the same user is exposed to both the features (thus the population property is exactly the same for both the control and treatment). However, it is risky. For example, the order in which the features were exposed to the user might have an effect on user response. For example, if users liked the first feature and not like the second feature, they may leave the app. Thus, it is better to use inter-users (or standard A/B test with a control and the treatment group).\n",
    "\n",
    "In <b>medical trials</b>, to maintain the similarity of population, cohorts are selected. In best case scenario, two very similar users (patients) can be selected with similar demographics and medical history and paired together (send one to control group and one to the treatment group). In nature vs nurture debate, two identical twins were the best sample for the study as their nature (conditions under which they were born) was exactly the same. Online experiments do not have the luxury to know about the users.\n",
    "\n",
    "While selecting the population, the users <b>should not anticipate the new features</b>. There should be no cross sharing of information. For example, if it is widely known that a company has added a new feature, some users will be frustrated if they wanted that feature and they were kept in the control group (media attention should be avoided). In many research studies, the researchers (and anyone involved in the project) do not participate in the project as they know what to expect from the new feature."
   ]
  },
  {
   "cell_type": "markdown",
   "metadata": {},
   "source": [
    "<h2>Sample size calculation </h2>\n",
    "\n",
    "How long the A/B tests should be continued? A/B testing should be done for metrics that can be observed in short time. However, the sample size (or data collected from A/B testing) should be enough for us to confidently accept/reject the results from A/B testing. This Section uses the knowledge we used in Section on Recap of Probability Distribution (sample size, difference between the two distributions, standard deviation of the distribution) First we discuss <b>p-value</b> and <b>significance levels</b>.\n",
    "\n",
    "In hypothesis testing, null hypothesis states the world we believe exists. Null hypothesis is the baseline in A/B testing (e.g. No difference in user engagement between control group and treatment group). Alternative hypothesis looks into our interest of difference (e.g. user engagement increases or not by using F2). <b>p-value</b> is the probability that the world we believe exists. For example, if p-value is 0.02, it says, there is a 2% chance that the world of null hypothesis exists. If p-value is smaller than the level of significance, we reject the null hypothesis, assuming we observed it by chance (2% chance in this case). Thus, <b>significance level</b> is the probability of rejecting the null hypothesis when it is true. Generally the level of significance is kept at 5%.\n",
    "\n",
    "In A/B testing, we compare two samples. We expect the two samples to behave differently (if we expect the feature to have an impact). Thus the standard error would be different for the two samples. Thus we use pooled standard error (<i>p-SE</i>). Let <i>d</i> be the difference (of probability of click) between the two groups. If our null hypothesis says there is no difference between the two groups, we expect <i>d = 0</i>. We can calculate the confidence interval, centered around 0 with margin of error by using <i>p-SE</i>. If <i>d</i> lies on either side of the extreme of the confidence interval (smaller than left side or larger than right side), we reject the null hypothesis as unlikely and say the difference between the two samples is <b>statistically significant</b>.\n",
    "\n",
    "In hypothesis testing, we might fall into two errors. In <b>Type-I</b> error, or alpha, we reject null hypothesis given it is true. In <b>Type-II</b> error, or beta, we fail to reject the null hypothesis, given it is false. They are also called producer's risk and consumer's risk respectively. Type-II error can be more serious (e.g. testing that a drug works and giving it to patients given that the medicine doesn't actually work). The power of test is defined as 1-beta, that is the probability to reject the null hypothesis when it is false. Hypothesis testing is based on the assumption that we know how many samples were needed to be collected to detect the change we wanted to see. But in practice, it is other way round, that is, we first collect data and then do the hypothesis testing. Some companies just do do a one shot testing after collecting the data, but they keep on continuing the experiment such that the results dont change much over time (e.g. AirBnB)."
   ]
  },
  {
   "cell_type": "markdown",
   "metadata": {},
   "source": [
    "<h3>Sample size Theory</h3>"
   ]
  },
  {
   "cell_type": "markdown",
   "metadata": {},
   "source": [
    "Sample size depends on the desired power of the test and desired level of change we want to detect in the two groups (control and treatment). This <b>level of change we want to detect is called minimum detectable effect (MDE)</b>. For <b>higher power of the test, we need larger sample size</b>. <b>The smaller the change we want to detect, the larger sample size we need</b>. For example, in medicine, we might want to detect if the change in using a drug is 5% - 10%. In click through rate on advertisement, we might want to detect even a 2% change. In medical field, if the change is not large enough, it will practically insignificant to implement the changes (as it will be very expensive to train nurses, inform doctors about new drug and send the new medicines to pharmaceuticals). The change we want to detect is called practically significant change. Thus, A/B testing results should detect practically and also statistically significant changes. The relation between these is explained below in Figure 3.\n",
    "\n",
    "Left part of Figure 3 shows what does power of a test graphically. As the sample size increases, the standard error decreases, thus the distribution become tighter and tighter. As seen from the figure, the chances of wrongfully concluding that no difference exists (even though difference exists) decreases. Also, as the distributions move away from each other (if there is larger difference), the power of the test is high as it can easily detect the change. Thus, it becomes difficult to detect smaller changes. Thus power increases on increasing the sample size. Power is kept at 80% generally.\n",
    "\n",
    "Check the online calculator (by optimizely) used for calculating the sample size.\n",
    "https://www.optimizely.com/sample-size-calculator/\n",
    "\n",
    "<img src=\"Power.jpg\" width=\"900\">\n",
    "<center>Calculating the Power of a test. $p_1$ and $p_2$ show the mean of the two distribution (this figure shows the sample size of binomial distribution but it can be generalized to any distribution)</center>"
   ]
  },
  {
   "cell_type": "markdown",
   "metadata": {},
   "source": [
    "<h3>Sample size calculation Example</h3>\n",
    "\n",
    "We will use the concepts from Section 3 and the previous section to find an estimation of the number of samples we need to collect to observe a desired difference (MDE) that should make business sense. For example, if the click through rate in general is 3% and we set out to detect a click through rate of 10%, we might not be able to detect that level of change. However, we will miss out on potential 2% gain in click through rate (if the new click through rate is 5%) as our experiment will show <b>insignificant changes</b> if we want to detect a 7% increase in click through rate.\n",
    "\n",
    "\n",
    "Therefore, we should have a prior knowledge of the metric we are looking to improve through A/B testing. For example, lets take an example of click through rate. Since it is a probability, we can use binomial distribution. Let $p=0.1$ (click through rate of 10%), variance equals $p(1-p)$ = 0.09."
   ]
  },
  {
   "cell_type": "code",
   "execution_count": 58,
   "metadata": {},
   "outputs": [
    {
     "data": {
      "application/vnd.jupyter.widget-view+json": {
       "model_id": "32c6bfd73d614dfdb3e7334aeeb53f49",
       "version_major": 2,
       "version_minor": 0
      },
      "text/plain": [
       "interactive(children=(FloatSlider(value=0.1, description='p', max=0.7, min=0.1, step=0.05), FloatSlider(value=…"
      ]
     },
     "metadata": {},
     "output_type": "display_data"
    }
   ],
   "source": [
    "# calculator for the sample size (size may depend if beta is one sided or two sided, here I considered two sided)\n",
    "# change the different parameters to see how the sample size changes\n",
    "# baseline is set as p\n",
    "# p: baseline probability (from domain knowledge), delta: change we want to detect, # power: power of the test\n",
    "\n",
    "@interact( p = (0.1,0.7,0.05), delta=(0.01,0.09,0.01), power=(0.6,0.95,0.05))\n",
    "def posterior( p=0.1, delta=0.001,power=0.6):\n",
    "    z_alpha = st.norm.ppf(1-0.05/2)    # significance level = 0.05\n",
    "    z_beta  = st.norm.ppf(power/2)\n",
    "    print('p:',p,'delta value:',delta, 'power value:',power)\n",
    "    var_p = p*(1-p)\n",
    "    size = int(var_p*math.pow(z_alpha+z_beta,2)/math.pow(delta,2))\n",
    "    print(\"sample size:\", size)"
   ]
  },
  {
   "cell_type": "markdown",
   "metadata": {},
   "source": [
    "<u>Observations</u> <br>\n",
    "<ul>\n",
    "    <li>As p increases (up to 0.5), sample size required increases (as variance is maximum at p = 0.5)</li>\n",
    "    <li>As delta increases, sample size decreases (as two distributions move far). Thus we should select a reasonable value for delta. If delta value is too high, it will show that the experiment requires only 100 samples (and in that 100 samples, the variance might be too high and the experiment would imply: no significant difference between control and treatment)</li>\n",
    "    <li>As power-of-test requirement increase, sample size increases (to be more precise and confident)</li>\n",
    "</ul>"
   ]
  },
  {
   "cell_type": "markdown",
   "metadata": {},
   "source": [
    "<h2>Analyzing Results </h2>\n",
    "\n",
    "Once we define the metrics, set up the experiments and get the data from the experiment, we are ready to analyze the results. using the analysis, we want to conclude the results of the experiment. Analyzing the results rigorously is critical as the based on the conclusion, the change would be implemented."
   ]
  },
  {
   "cell_type": "markdown",
   "metadata": {},
   "source": [
    "<h3>Stopping the experiment</h3>\n",
    "\n",
    "In A/B testing, the experiment can be stopped under two condition. One, when enough data points have been collected. Second when the results are statistically significant. Based on the analysis of the results, managers can decide if they want to continue the experiments or not (if the difference is practically significant). It also depends on the manager as how long they want to continue (till they are completely confident in the results)."
   ]
  },
  {
   "cell_type": "markdown",
   "metadata": {},
   "source": [
    "<h3>Sanity Checks</h3>\n",
    "\n",
    "A/B testing is an iterative process. Based on checks and learnings from these sanity checks, we need to redesign the experiments. Check if the data captured is correct (looks reasonable). For example, there is no drastic or incomprehensible changes in the metrics. We also need to <b>check the metrics of the two groups before we run the experiment</b>.\n",
    "\n",
    "Another important sanity check is to <b>check the other metrics</b>. We can use A/A test to check the invariance in metrics between the two groups. We also need to check that other metrics (which should not change on changing the features under study) remain <b>invariant, or there is no significant change between the two groups</b>. They might change if they are highly correlated with the evaluation metric. If sanity checks fail, do not proceed with the analysis."
   ]
  },
  {
   "cell_type": "code",
   "execution_count": null,
   "metadata": {},
   "outputs": [],
   "source": []
  },
  {
   "cell_type": "markdown",
   "metadata": {},
   "source": [
    "<h2>Example</h2>"
   ]
  },
  {
   "cell_type": "markdown",
   "metadata": {},
   "source": [
    "We use data from Kaggle <a href=\"https://www.kaggle.com/yufengsui/mobile-games-ab-testing\">here</a>. Its a data on mobile game retention (a user does not uninstall the app). 1 day retention = user comes back to use the app one day after installing the app. 7 day retention = user comes back to use the app 7 days after uninstalling. We can start with analyzing the data."
   ]
  },
  {
   "cell_type": "code",
   "execution_count": 59,
   "metadata": {},
   "outputs": [],
   "source": [
    "data = pd.read_csv(\"data.csv\")"
   ]
  },
  {
   "cell_type": "code",
   "execution_count": 60,
   "metadata": {},
   "outputs": [
    {
     "data": {
      "text/html": [
       "<div>\n",
       "<style scoped>\n",
       "    .dataframe tbody tr th:only-of-type {\n",
       "        vertical-align: middle;\n",
       "    }\n",
       "\n",
       "    .dataframe tbody tr th {\n",
       "        vertical-align: top;\n",
       "    }\n",
       "\n",
       "    .dataframe thead th {\n",
       "        text-align: right;\n",
       "    }\n",
       "</style>\n",
       "<table border=\"1\" class=\"dataframe\">\n",
       "  <thead>\n",
       "    <tr style=\"text-align: right;\">\n",
       "      <th></th>\n",
       "      <th>userid</th>\n",
       "      <th>version</th>\n",
       "      <th>sum_gamerounds</th>\n",
       "      <th>retention_1</th>\n",
       "      <th>retention_7</th>\n",
       "    </tr>\n",
       "  </thead>\n",
       "  <tbody>\n",
       "    <tr>\n",
       "      <td>0</td>\n",
       "      <td>116</td>\n",
       "      <td>gate_30</td>\n",
       "      <td>3</td>\n",
       "      <td>False</td>\n",
       "      <td>False</td>\n",
       "    </tr>\n",
       "    <tr>\n",
       "      <td>1</td>\n",
       "      <td>337</td>\n",
       "      <td>gate_30</td>\n",
       "      <td>38</td>\n",
       "      <td>True</td>\n",
       "      <td>False</td>\n",
       "    </tr>\n",
       "    <tr>\n",
       "      <td>2</td>\n",
       "      <td>377</td>\n",
       "      <td>gate_40</td>\n",
       "      <td>165</td>\n",
       "      <td>True</td>\n",
       "      <td>False</td>\n",
       "    </tr>\n",
       "    <tr>\n",
       "      <td>3</td>\n",
       "      <td>483</td>\n",
       "      <td>gate_40</td>\n",
       "      <td>1</td>\n",
       "      <td>False</td>\n",
       "      <td>False</td>\n",
       "    </tr>\n",
       "    <tr>\n",
       "      <td>4</td>\n",
       "      <td>488</td>\n",
       "      <td>gate_40</td>\n",
       "      <td>179</td>\n",
       "      <td>True</td>\n",
       "      <td>True</td>\n",
       "    </tr>\n",
       "  </tbody>\n",
       "</table>\n",
       "</div>"
      ],
      "text/plain": [
       "   userid  version  sum_gamerounds  retention_1  retention_7\n",
       "0     116  gate_30               3        False        False\n",
       "1     337  gate_30              38         True        False\n",
       "2     377  gate_40             165         True        False\n",
       "3     483  gate_40               1        False        False\n",
       "4     488  gate_40             179         True         True"
      ]
     },
     "execution_count": 60,
     "metadata": {},
     "output_type": "execute_result"
    }
   ],
   "source": [
    "data.head()"
   ]
  },
  {
   "cell_type": "markdown",
   "metadata": {},
   "source": [
    "control        = gate_30 in column: version <br>\n",
    "treatment      = gate_40 in column: version <br>\n",
    "sum_gamerounds = number of games a user played in first 14 days after installing the app"
   ]
  },
  {
   "cell_type": "markdown",
   "metadata": {},
   "source": [
    "<h3>Data Exploration</h3>"
   ]
  },
  {
   "cell_type": "code",
   "execution_count": 65,
   "metadata": {},
   "outputs": [
    {
     "name": "stdout",
     "output_type": "stream",
     "text": [
      "gate_40    45489\n",
      "gate_30    44700\n",
      "Name: version, dtype: int64\n",
      "NOTE:Number of users in control and treatment group are similar\n"
     ]
    }
   ],
   "source": [
    "print(data['version'].value_counts())\n",
    "print(\"NOTE:Number of users in control and treatment group are similar\")"
   ]
  },
  {
   "cell_type": "code",
   "execution_count": 62,
   "metadata": {},
   "outputs": [
    {
     "name": "stdout",
     "output_type": "stream",
     "text": [
      "False    50036\n",
      "True     40153\n",
      "Name: retention_1, dtype: int64\n"
     ]
    }
   ],
   "source": [
    "print(data['retention_1'].value_counts())"
   ]
  },
  {
   "cell_type": "code",
   "execution_count": 63,
   "metadata": {},
   "outputs": [
    {
     "name": "stdout",
     "output_type": "stream",
     "text": [
      "False    73408\n",
      "True     16781\n",
      "Name: retention_7, dtype: int64\n"
     ]
    }
   ],
   "source": [
    "print(data['retention_7'].value_counts())"
   ]
  },
  {
   "cell_type": "code",
   "execution_count": 71,
   "metadata": {},
   "outputs": [
    {
     "name": "stdout",
     "output_type": "stream",
     "text": [
      "Box plot shows that there is one outlier, we can filter now but outliers should be investigated as why such a big number is observed\n"
     ]
    },
    {
     "data": {
      "image/png": "[encoded data removed]",
      "text/plain": [
       "<Figure size 1296x288 with 2 Axes>"
      ]
     },
     "metadata": {
      "needs_background": "light"
     },
     "output_type": "display_data"
    }
   ],
   "source": [
    "fig = mplt.figure(figsize=(18,4))\n",
    "mplt.subplot(1,2,1)\n",
    "mplt.hist(data['sum_gamerounds'],bins=100);\n",
    "\n",
    "mplt.subplot(1,2,2)\n",
    "mplt.boxplot(data['sum_gamerounds']);\n",
    "\n",
    "print(\"Box plot shows that there is one outlier, we can filter now but outliers should be investigated as why such a big number is observed\")"
   ]
  },
  {
   "cell_type": "code",
   "execution_count": 78,
   "metadata": {},
   "outputs": [
    {
     "data": {
      "image/png": "[encoded data removed]",
      "text/plain": [
       "<Figure size 1296x288 with 2 Axes>"
      ]
     },
     "metadata": {
      "needs_background": "light"
     },
     "output_type": "display_data"
    }
   ],
   "source": [
    "# filtering the data\n",
    "# assuming that user have played at max 100 games (to ensure we are colleting data from legitimate data and not bots)\n",
    "data = data[data['sum_gamerounds']<100]\n",
    "\n",
    "fig = mplt.figure(figsize=(18,4))\n",
    "mplt.subplot(1,2,1)\n",
    "mplt.hist(data['sum_gamerounds'],bins=100);\n",
    "\n",
    "mplt.subplot(1,2,2)\n",
    "mplt.boxplot(data['sum_gamerounds']);\n",
    "\n",
    "# note that there are gaps in the histogram of the columns sum_gamerouds: this could be an error and should be checked."
   ]
  },
  {
   "cell_type": "markdown",
   "metadata": {},
   "source": [
    "<h3>A/A Testing</h3>"
   ]
  },
  {
   "cell_type": "markdown",
   "metadata": {},
   "source": [
    "We first use data for the 10,000 users from control group for our A/A testing and building the prior (getting an idea of the probability of uninstalls)"
   ]
  },
  {
   "cell_type": "code",
   "execution_count": 150,
   "metadata": {},
   "outputs": [
    {
     "data": {
      "text/plain": [
       "((5000, 5), (5000, 5), (27076, 5), (27579, 5))"
      ]
     },
     "execution_count": 150,
     "metadata": {},
     "output_type": "execute_result"
    }
   ],
   "source": [
    "# first collecting the data for A/A testing from the control group \n",
    "# for that, randomize the data and collect first 10,000 users data for the control group\n",
    "# then split these 10,000 users into two groups of 5000 randomly\n",
    "\n",
    "# random seed is to get the same results everytime the code is run\n",
    "np.random.seed(0)\n",
    "\n",
    "\n",
    "# shuffle randomly\n",
    "data_random  = data[data['version']=='gate_30'].sample(frac=1).reset_index(drop=True)\n",
    "\n",
    "# shuffle again (not really required here as we have already shuffled but for the sake of randomization)\n",
    "random_index = np.random.permutation(10000)\n",
    "data_A1     = data_random.iloc[random_index[0:5000]]\n",
    "data_A2     = data_random.iloc[random_index[5000:10000]]\n",
    "\n",
    "# we make sure that these users are not selected for our A/B testing as we have already seen their data\n",
    "# to make the sample size for A/B approximately similar, we can remove first 10,000 users from treatement group as well\n",
    "data_control = data_random.iloc[10000:]\n",
    "data_treatment = data[data['version']=='gate_40'].sample(frac=1).reset_index(drop=True).iloc[10000:]\n",
    "\n",
    "data_A1.shape,data_A2.shape,data_control.shape, data_treatment.shape"
   ]
  },
  {
   "cell_type": "code",
   "execution_count": 117,
   "metadata": {},
   "outputs": [
    {
     "data": {
      "image/png": "[encoded data removed]",
      "text/plain": [
       "<Figure size 432x288 with 1 Axes>"
      ]
     },
     "metadata": {
      "needs_background": "light"
     },
     "output_type": "display_data"
    }
   ],
   "source": [
    "# check the probability of uninstalls (we consider day 7 retention as our metric in this case) fro A/A testing\n",
    "p_A1 = data_A1['retention_7'].value_counts().values[1]/len(data_A1)\n",
    "p_A2 = data_A2['retention_7'].value_counts().values[1]/len(data_A2)\n",
    "\n",
    "# We can use normal approximation for calculating the confidence interval  \n",
    "ll_A1,ul_A1 = p_A1-np.sqrt((p_A1*(1-p_A1))/len(data_A1)),p_A1+np.sqrt((p_A1*(1-p_A1))/len(data_A1))\n",
    "ll_A2,ul_A2 = p_A2-np.sqrt((p_A2*(1-p_A2))/len(data_A2)),p_A2+np.sqrt((p_A2*(1-p_A2))/len(data_A2))\n",
    "\n",
    "mplt.plot([1,1],[ll_A1,ul_A1],color='green',label='A1')\n",
    "mplt.plot([2,2],[ll_A2,ul_A2],color='blue', label='A2')\n",
    "mplt.scatter([1],[p_A1],color='green')\n",
    "mplt.scatter([2],[p_A2],color='blue')\n",
    "mplt.legend();\n",
    "mplt.xlim(-1,4);"
   ]
  },
  {
   "cell_type": "markdown",
   "metadata": {},
   "source": [
    "<u>Observation</u> <br>\n",
    "We can observe that the confidence intervals intersect. So statistically, there is no difference between the two groups in A/A testing. This is a good sanity check to perform and check if the data is collected correctly. We can also draw the distribution of 'sum_gameround' to check if the distribution across the two groups in similar. \n",
    "\n",
    "\n",
    "The following figure also illustrates that we should keep a track of other metrics as well and they should still make sense."
   ]
  },
  {
   "cell_type": "code",
   "execution_count": 119,
   "metadata": {},
   "outputs": [
    {
     "data": {
      "image/png": "[encoded data removed]",
      "text/plain": [
       "<Figure size 1296x288 with 2 Axes>"
      ]
     },
     "metadata": {
      "needs_background": "light"
     },
     "output_type": "display_data"
    }
   ],
   "source": [
    "fig = mplt.figure(figsize=(18,4))\n",
    "mplt.subplot(1,2,1)\n",
    "mplt.hist(data_A1['sum_gamerounds'],bins=100);\n",
    "\n",
    "mplt.subplot(1,2,2)\n",
    "mplt.hist(data_A2['sum_gamerounds'],bins=100);"
   ]
  },
  {
   "cell_type": "code",
   "execution_count": 123,
   "metadata": {},
   "outputs": [
    {
     "data": {
      "text/plain": [
       "0.0887"
      ]
     },
     "execution_count": 123,
     "metadata": {},
     "output_type": "execute_result"
    }
   ],
   "source": [
    "# collecting data for the prior distribution\n",
    "# this is the retention rate in the app (we can collect more than 10,000 user to build prior, these are subjective questions)\n",
    "# and they can be answered best by people with domain knowledge in the company\n",
    "np.random.seed(0)\n",
    "\n",
    "data_prior  = data[data['version']=='gate_30'].sample(frac=1).reset_index(drop=True).iloc[0:10000]\n",
    "p_prior     = data_prior['retention_7'].value_counts().values[1]/len(data_prior)\n",
    "\n",
    "p_prior"
   ]
  },
  {
   "cell_type": "markdown",
   "metadata": {},
   "source": [
    "<h3>A/B testing</h3>"
   ]
  },
  {
   "cell_type": "code",
   "execution_count": 124,
   "metadata": {},
   "outputs": [
    {
     "data": {
      "image/png": "[encoded data removed]",
      "text/plain": [
       "<Figure size 432x288 with 1 Axes>"
      ]
     },
     "metadata": {
      "needs_background": "light"
     },
     "output_type": "display_data"
    }
   ],
   "source": [
    "# check the probability of uninstalls (we consider day 7 retention as our metric in this case) fro A/A testing\n",
    "p_control = data_control['retention_7'].value_counts().values[1]/len(data_control)\n",
    "p_treatment = data_treatment['retention_7'].value_counts().values[1]/len(data_treatment)\n",
    "\n",
    "# We can use normal approximation for calculating the confidence interval  \n",
    "ll_control,ul_control = p_control-np.sqrt((p_control*(1-p_control))/len(data_control)),p_control+np.sqrt((p_control*(1-p_control))/len(data_control))\n",
    "ll_treatment,ul_treatment = p_treatment-np.sqrt((p_treatment*(1-p_treatment))/len(data_treatment)),p_treatment+np.sqrt((p_treatment*(1-p_treatment))/len(data_treatment))\n",
    "\n",
    "mplt.plot([1,1],[ll_control,ul_control],color='green',label='control')\n",
    "mplt.plot([2,2],[ll_treatment,ul_treatment],color='blue', label='treatment')\n",
    "mplt.scatter([1],[p_control],color='green')\n",
    "mplt.scatter([2],[p_treatment],color='blue')\n",
    "mplt.legend();\n",
    "mplt.xlim(-1,4);"
   ]
  },
  {
   "cell_type": "markdown",
   "metadata": {},
   "source": [
    "<u>Observation</u> <br>\n",
    "We can observe that the 7 day retention for the control group (gate_30) is higher than the treatment group (and statistically different too). Thus, we can say that it is better to keep gate_30 rather than gate_40 if the company wants higher retention. NOTE that the results have been obtained based on some filtering we did earlier. Results might change based on how we use the filter and all these analysis should be done before presenting the final conclusion."
   ]
  },
  {
   "cell_type": "code",
   "execution_count": 151,
   "metadata": {},
   "outputs": [
    {
     "data": {
      "image/png": "[encoded data removed]",
      "text/plain": [
       "<Figure size 432x288 with 1 Axes>"
      ]
     },
     "metadata": {
      "needs_background": "light"
     },
     "output_type": "display_data"
    }
   ],
   "source": [
    "n  = len(data_control)\n",
    "p  = data_control['retention_7'].value_counts().values[1]/n\n",
    "x = np.arange(binom.ppf(0.01, n, p),binom.ppf(0.99, n, p))\n",
    "mplt.plot(x, binom.pmf(x, n, p), 'o', ms=8, label='control',color='orange')\n",
    "mplt.axvline(x=n*p,c='orange')                            \n",
    "\n",
    "n  = len(data_treatment)\n",
    "p  = data_treatment['retention_7'].value_counts().values[1]/n\n",
    "x = np.arange(binom.ppf(0.01, n, p),binom.ppf(0.99, n, p))\n",
    "mplt.plot(x, binom.pmf(x, n, p), 'o', ms=8, label='treatment',color='blue')\n",
    "mplt.axvline(x=n*p,c='blue') \n",
    "mplt.legend();\n"
   ]
  },
  {
   "cell_type": "code",
   "execution_count": 162,
   "metadata": {},
   "outputs": [
    {
     "name": "stdout",
     "output_type": "stream",
     "text": [
      "performing t test\n",
      "Ttest_indResult(statistic=4.246081532477288, pvalue=2.179003753701172e-05)\n"
     ]
    }
   ],
   "source": [
    "def trueFalse(x):\n",
    "    if 'True' in str(x):\n",
    "        c = 1\n",
    "    else:\n",
    "        c = 0\n",
    "    return(c)\n",
    "print('performing t test')\n",
    "distribution1 = data_control['retention_7'].apply(lambda x:trueFalse(x))\n",
    "distribution2 = data_treatment['retention_7'].apply(lambda x:trueFalse(x))\n",
    "print(st.ttest_ind(distribution1,distribution2))"
   ]
  },
  {
   "cell_type": "markdown",
   "metadata": {},
   "source": [
    "<u>Observation</u> <br>\n",
    "p value < 0.05 shows that the the performance of gate_30 and gate_40 (control and treatment) is significantly (statistically) different. Since retention is lower for gate_40, gate_30 (control) should be continued and gate_40 (treatment) should not be introduced. This also shows that A/B testing may not always be improving the system, they might make the system worse."
   ]
  },
  {
   "cell_type": "markdown",
   "metadata": {},
   "source": [
    "<h3>sample size</h3>\n",
    "\n",
    "After we finish the first run, we observe that the treatment group performs worse than the control group and thus gate_40 should not be introduced in the app. However, was the sample size big enough? Our analysis considered 54655 (sum of rows of data_control and data_treatment). We can check sample size based on what difference we would like to observe. We will use p_prior as our baseline probability.\n",
    "\n",
    "Result below show that we have enough samples in our data to observe a 1% difference between the metric in control and treatment group. However, if we want to detect a 0.1% change in the performance, we should collect more data."
   ]
  },
  {
   "cell_type": "code",
   "execution_count": 169,
   "metadata": {},
   "outputs": [
    {
     "data": {
      "application/vnd.jupyter.widget-view+json": {
       "model_id": "4ce546eeed7447ca849c9dea7f18d8d5",
       "version_major": 2,
       "version_minor": 0
      },
      "text/plain": [
       "interactive(children=(FloatSlider(value=0.001, description='delta', max=0.01, min=0.001, step=0.001), FloatSli…"
      ]
     },
     "metadata": {},
     "output_type": "display_data"
    }
   ],
   "source": [
    "@interact(delta=(0.001,0.01,0.001), power=(0.6,0.95,0.05))\n",
    "def posterior(delta=0.001,power=0.6):\n",
    "    p = p_prior\n",
    "    z_alpha = st.norm.ppf(1-0.05/2)    # significance level = 0.05\n",
    "    z_beta  = st.norm.ppf(power/2)\n",
    "    print('p:',p,'\\ndelta value:',delta, 'power value:',power)\n",
    "    var_p = p*(1-p)\n",
    "    size = int(var_p*math.pow(z_alpha+z_beta,2)/math.pow(delta,2))\n",
    "    print(\"\\nsample size:\", size)"
   ]
  },
  {
   "cell_type": "markdown",
   "metadata": {},
   "source": [
    "<h2>Continuous A/B Testing</h2>"
   ]
  },
  {
   "cell_type": "markdown",
   "metadata": {},
   "source": [
    "<h2>Multi-Arm Bandit</h2>\n",
    "\n",
    "Suppose instead of 2 options (control and treatment), we have multiple options we want to try at once. In this case, we should allocate equal number of users in each treatment+1 control group. But what if after some some observations, we see that one of the treatment clearly performs very bad. We should not send that treatment to the customers (as it will be a waste to assign your users to something that you clearly are not going to deploy). Also, if it performs really bad, it may hurt your business. Thus, in these cases we can use multi arm bandits to sequentially assign treatments to users. \n",
    "\n",
    "NOTE: All the properties of assigning users to different treatment groups, sensitivity of metrics, invariance are still necessary and nothing changes (other than the fact that we have multiple treatment groups)."
   ]
  },
  {
   "cell_type": "markdown",
   "metadata": {},
   "source": [
    "<h3>Example (slide 47 in Class)</h3>\n",
    "\n",
    "Suppose in this example, the company wants to check which of the 4 options should be given to new customer (to check whats the % of people who enroll in stitch fix). The company assigns one of the four options to new users sequentially. For example, when a new user checks the website, they will see one of the four options. They could assign it sequentially for days (for example, mondays, assign all users to option A, tuesday : check the performance of all and assign one of option to all users on Wednesday etc).\n",
    "\n",
    "<img src=\"stitchfix.png\" width=\"800\">\n",
    "<center>Four Options to select from</center>"
   ]
  },
  {
   "cell_type": "markdown",
   "metadata": {},
   "source": [
    "<h3>Prior and Posterior</h3>\n",
    "\n",
    "Prior and posterior are important concepts, particularly in bayesian statistics. For us: <br>\n",
    "1. Prior: our belief (for example, in the start, we believe that all the four options perform equally good)\n",
    "2. Posterior: updating our belief(for example, after observing some data, we update our initial belief) <br>\n",
    "\n",
    "\n",
    "CONCEPT OF MULTI-ARMED- BANDITS: <br>\n",
    "\n",
    "1. Start with the belief that all options are equally good (if you have other belief, use that belief) <br>\n",
    "2. Send one of the four options (in this example) to users through <b>selection</b> (we discuss this later) <br>\n",
    "3. Update the belief based on observing the data <br>\n",
    "4. Continue until the results converge and one of the four clearly is better than other or you get satisfying results (based on business sense)"
   ]
  },
  {
   "cell_type": "markdown",
   "metadata": {},
   "source": [
    "<h3>Prior distribution</h3>\n",
    "\n",
    "In this example, we consider probability of enrolling. Thus we model it is binomial distribution. We use beta distribution as prior as it is the conjugate prior of binomial distribution (we do not discuss conjugate prior here). Consider conjugate prior as a method to update our beliefs after we observe some data. \n",
    "\n",
    "Conjugate priors make it easy to update our belief. If beta distribution parameters are (a,b) and data observation is (c,d), we can update our beliefs or posterior as beta distribution with parameters (a+c,b+d): easy to update.\n",
    "\n",
    "Weak prior: Sometimes we are not sure about our belief as we have not seen enough observations (new products/features). In such cases, we set a weak prior such that the data dictates how the posterior will look like (as posterior is a combination of prior and data).\n",
    "\n",
    "Strong prior: When we know about the system based on prior experience, we can set strong prior. In such cases, new data updates the prior but prior is strong enough that posterior is not very far from the prior. Examples below:"
   ]
  },
  {
   "cell_type": "code",
   "execution_count": 170,
   "metadata": {},
   "outputs": [
    {
     "data": {
      "image/png": "[encoded data removed]",
      "text/plain": [
       "<Figure size 1296x288 with 2 Axes>"
      ]
     },
     "metadata": {
      "needs_background": "light"
     },
     "output_type": "display_data"
    }
   ],
   "source": [
    "# Code for showing the examples of prior and posterior distribution \n",
    "def prior_posterior():\n",
    "    fig = plt.figure(figsize=(18, 4))\n",
    "\n",
    "    A = [4,8,32]\n",
    "    B = [21,42,168]\n",
    "    color = ['r','g','b']\n",
    "    \n",
    "    # plotting the prior distribution\n",
    "    plt.subplot(1,2,1)\n",
    "    for j in range(3):\n",
    "        a, b = A[j], B[j]\n",
    "        mean, var, skew, kurt = beta.stats(a, b, moments='mvsk')\n",
    "\n",
    "        x  = np.linspace(beta.ppf(0.01, a, b),beta.ppf(0.99, a, b), 100)\n",
    "        rv = beta(a, b)\n",
    "        plt.plot(x, rv.pdf(x), 'k-', lw=2, label=\"Beta(\"+str(A[j])+\",\"+str(B[j])+\")\",c=color[j])\n",
    "        plt.axvline(x=A[j]/(A[j]+B[j]),c=color[j])\n",
    "            \n",
    "    plt.legend()\n",
    "    plt.title(\"Prior Distribution\");\n",
    "    \n",
    "    # plotting the posterior after 4 failures and 0 success after we collect 4 data points\n",
    "    plt.subplot(1,2,2)\n",
    "    for j in range(3):\n",
    "        a, b = A[j], B[j]+4\n",
    "        mean, var, skew, kurt = beta.stats(a, b, moments='mvsk')\n",
    "\n",
    "        x  = np.linspace(beta.ppf(0.01, a, b),beta.ppf(0.99, a, b), 100)\n",
    "        rv = beta(a, b)\n",
    "        plt.plot(x, rv.pdf(x), 'k-', lw=2, label=\"Beta(\"+str(A[j])+\",\"+str(B[j])+\")\",c=color[j])\n",
    "        plt.axvline(x=A[j]/(4+B[j]+A[j]),c=color[j])\n",
    "        \n",
    "    plt.legend()\n",
    "    plt.title(\"Posterior Distribution\");\n",
    "prior_posterior()"
   ]
  },
  {
   "cell_type": "markdown",
   "metadata": {},
   "source": [
    "<u>Observation</u> <br>\n",
    "In left side of the figure above, we consider three prior distributions. The mean of these beta distributions are same (4/21 or 8/42 or 32/168). However, beta distribution with (32,168) is strong prior (as can be seen with the spread of the distribution). The stronger the prior, the lower the spread (and higher the peak).\n",
    "\n",
    "The right side of the figure above shows how the distribution changes if we observe 4 failures and 0 success (4 people show up in the website and none of them join it). It can be observes that the stronger the prior, the more stable it is (mean does not shift) but for the weaker priors, mean shifts away from 4/21 or 8/42.\n",
    "\n",
    "Defining what should be the parameters of the prior comes from knowledge of the system and experience. If introducing a new feature, keep the prior weak, so that data will dictate the distribution. If you know the distribution well and are well informed, consider strong prior to avoid surprises in the data (which could be collected due to error in the process)."
   ]
  },
  {
   "cell_type": "markdown",
   "metadata": {},
   "source": [
    "<h3>Multi Armed Bandit Example</h3>"
   ]
  },
  {
   "cell_type": "code",
   "execution_count": 184,
   "metadata": {},
   "outputs": [
    {
     "data": {
      "image/png": "[encoded data removed]",
      "text/plain": [
       "<Figure size 1296x288 with 1 Axes>"
      ]
     },
     "metadata": {
      "needs_background": "light"
     },
     "output_type": "display_data"
    }
   ],
   "source": [
    "# lets consider that the signup from new users visiting the website comes from 4 different distribution as shown below.\n",
    "# we deliberately keep value of one distribution higher than the rest of the three.\n",
    "\n",
    "# Note that these are used drawn for the purpose of drawing from random distribution\n",
    "\n",
    "fig = plt.figure(figsize=(18, 4))\n",
    "\n",
    "A = [4,12,16,28]\n",
    "B = [42]*4\n",
    "color = ['r','g','b','black']\n",
    "lab = ['a','b','c','d']\n",
    "\n",
    "# plotting the prior distribution\n",
    "plt.subplot(1,2,1)\n",
    "for j in range(4):\n",
    "    a, b = A[j], B[j]\n",
    "    n  = B[j]\n",
    "    p  = A[j]/B[j]\n",
    "    x = np.arange(binom.ppf(0.01, n, p),binom.ppf(0.99, n, p))\n",
    "    mplt.plot(x, binom.pmf(x, n, p), 'o', ms=8, label=\"(\"+lab[j]+\") Binomial (\"+str(42)+\",\"+str(round(p,2))+\")\",color=color[j])\n",
    "    mplt.axvline(x=n*p,c=color[j]) \n",
    "    \n",
    "plt.legend()\n",
    "plt.title(\"Distribution of new users: probability that if a new user is shown that option, will they enroll?\");"
   ]
  },
  {
   "cell_type": "markdown",
   "metadata": {},
   "source": [
    "<h3>Selection rule for selecting among options to be shown to new users</h3>\n",
    "\n",
    "<ul>\n",
    "    <li>First select the prior. Lets consider we select a beta distribution with prior beta (100,30) </li>\n",
    "    <li>Lets show the four options for 400 new users (100 for each group)</li>\n",
    "    <li>After 400 users, select the options with highest probability of enrollment (call it optionMax)</li>\n",
    "    <li>When a new user comes, show them optionMax with probability 1-$\\epsilon$, and select among the others randomly with probability $\\epsilon$</li>\n",
    "</ul>"
   ]
  },
  {
   "cell_type": "code",
   "execution_count": 192,
   "metadata": {},
   "outputs": [],
   "source": [
    "posterior = [[100,30],[100,30],[100,30],[100,30]]\n",
    "prob      = [30/100]*4\n",
    "\n",
    "# updating the posterior with 100 users shown the options (400 users are shown the options randomly)\n",
    "for j in range(4):\n",
    "    # n = 1 helps in drawing from 0,1, 100 here is the number of users it is shown to\n",
    "    draw = np.random.binomial(1,A[j]/B[j],100)   \n",
    "    posterior[j][0] += len(draw)\n",
    "    posterior[j][1] += sum(draw)\n",
    "    \n",
    "    # updating the prob\n",
    "    prob[j] = posterior[j][1]/posterior[j][0]"
   ]
  },
  {
   "cell_type": "code",
   "execution_count": 211,
   "metadata": {},
   "outputs": [
    {
     "data": {
      "image/png": "[encoded data removed]",
      "text/plain": [
       "<Figure size 432x288 with 1 Axes>"
      ]
     },
     "metadata": {
      "needs_background": "light"
     },
     "output_type": "display_data"
    }
   ],
   "source": [
    "# now that we have shown the options to 100 users, we know something about each option, now we select the options non randomly\n",
    "# total shown to customers : count \n",
    "\n",
    "count = [[100],[100],[100],[100]]\n",
    "\n",
    "epsilon = 0.25\n",
    "\n",
    "# lets continue the experiment for 10000 new users\n",
    "for i in range(1000):\n",
    "    for j in range(4):\n",
    "        count[j].append(count[j][-1])\n",
    "    optMax = np.argmax(prob)\n",
    "    others = [0,1,2,3]\n",
    "    others.remove(optMax)\n",
    "    r = np.random.uniform(0,1)\n",
    "    \n",
    "    # select the best based on probability\n",
    "    if r < 1-epsilon:\n",
    "        draw = np.random.binomial(1,A[optMax]/B[optMax],1)   # assign one users to option optMax (could assign more)\n",
    "        posterior[optMax][0] += len(draw)\n",
    "        posterior[optMax][1] += sum(draw)\n",
    "        \n",
    "    # select others randomly\n",
    "    else:\n",
    "        optMax = np.random.choice(others)\n",
    "        draw = np.random.binomial(1,A[optMax]/B[optMax],1)   # assign one users to option optMax (could assign more)\n",
    "        posterior[optMax][0] += len(draw)\n",
    "        posterior[optMax][1] += sum(draw)\n",
    "    \n",
    "    count[optMax][-1] += 1\n",
    "    \n",
    "for j in range(4):\n",
    "    mplt.plot(count[j],linewidth=2,label='option: '+str(lab[j]))\n",
    "mplt.legend();"
   ]
  },
  {
   "cell_type": "code",
   "execution_count": null,
   "metadata": {},
   "outputs": [],
   "source": []
  }
 ],
 "metadata": {
  "hide_input": false,
  "kernelspec": {
   "display_name": "Python 3",
   "language": "python",
   "name": "python3"
  },
  "language_info": {
   "codemirror_mode": {
    "name": "ipython",
    "version": 3
   },
   "file_extension": ".py",
   "mimetype": "text/x-python",
   "name": "python",
   "nbconvert_exporter": "python",
   "pygments_lexer": "ipython3",
   "version": "3.7.3"
  },
  "toc": {
   "base_numbering": 1,
   "nav_menu": {},
   "number_sections": true,
   "sideBar": true,
   "skip_h1_title": true,
   "title_cell": "Table of Contents",
   "title_sidebar": "Contents",
   "toc_cell": false,
   "toc_position": {
    "height": "calc(100% - 180px)",
    "left": "10px",
    "top": "150px",
    "width": "319.306px"
   },
   "toc_section_display": true,
   "toc_window_display": true
  },
  "varInspector": {
   "cols": {
    "lenName": 16,
    "lenType": 16,
    "lenVar": 40
   },
   "kernels_config": {
    "python": {
     "delete_cmd_postfix": "",
     "delete_cmd_prefix": "del ",
     "library": "var_list.py",
     "varRefreshCmd": "print(var_dic_list())"
    },
    "r": {
     "delete_cmd_postfix": ") ",
     "delete_cmd_prefix": "rm(",
     "library": "var_list.r",
     "varRefreshCmd": "cat(var_dic_list()) "
    }
   },
   "types_to_exclude": [
    "module",
    "function",
    "builtin_function_or_method",
    "instance",
    "_Feature"
   ],
   "window_display": false
  }
 },
 "nbformat": 4,
 "nbformat_minor": 2
}
